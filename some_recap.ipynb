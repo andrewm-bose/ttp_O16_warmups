{
 "cells": [
  {
   "cell_type": "code",
   "execution_count": null,
   "metadata": {},
   "outputs": [],
   "source": [
    "## UNION / INTERSECT\n",
    "-- find all film with 'Fred' in the title\n",
    "SELECT *\n",
    "FROM film\n",
    "WHERE LOWER(title) LIKE '%fred%';\n",
    "\n",
    "--find all films that mention squirrels in the description\n",
    "SELECT *\n",
    "FROM film\n",
    "WHERE LOWER(description) LIKE '%squirrel%';\n",
    "\n",
    "--find the intersection of the two previous subqueries\n",
    "-- hint: there's two\n"
   ]
  },
  {
   "cell_type": "code",
   "execution_count": null,
   "metadata": {},
   "outputs": [],
   "source": [
    "SELECT *\n",
    "FROM film\n",
    "WHERE LOWER(title) LIKE '%fred%'\n",
    "\n",
    "INTERSECT\n",
    "\n",
    "SELECT *\n",
    "FROM film\n",
    "WHERE LOWER(description) LIKE '%squirrel%';"
   ]
  },
  {
   "cell_type": "markdown",
   "metadata": {},
   "source": [
    "-"
   ]
  },
  {
   "cell_type": "code",
   "execution_count": null,
   "metadata": {},
   "outputs": [],
   "source": [
    "## SUBQUERY\n",
    "-- Get the emails of all customers that shop at store 1 that are inactive (use 'active')\n",
    "SELECT customer_id, email, active\n",
    "From customer\n",
    "WHERE store_id = 1 AND active = 0\n",
    "ORDER BY last_update;\n",
    "\n",
    "--How much have these customers spent? (Use code from the previous query to\n",
    "-- make a subquery or a CTE to solve this one.) \n",
    "SELECT customer_id, SUM(amount)\n",
    "FROM payment \n",
    "WHERE customer_id IN (SELECT customer_id\n",
    "\t\t\t\t\t\tFrom customer\n",
    "\t\t\t\t\t\tWHERE store_id = 1 AND active = 0\n",
    "\t\t\t\t\t\tORDER BY last_update)\n",
    "GROUP BY customer_id;"
   ]
  },
  {
   "cell_type": "code",
   "execution_count": null,
   "metadata": {},
   "outputs": [],
   "source": [
    "# TO SUBQUERY\n",
    "SELECT customer_id,\n",
    "FROM payment\n",
    "WHERE customer_id IN\n",
    "                    (SELECT customer_id, email, active\n",
    "                    From customer\n",
    "                    WHERE store_id = 1 AND active = 0\n",
    "                    ORDER BY last_update)"
   ]
  },
  {
   "cell_type": "markdown",
   "metadata": {},
   "source": [
    "-"
   ]
  },
  {
   "cell_type": "code",
   "execution_count": null,
   "metadata": {},
   "outputs": [],
   "source": [
    "## WHERE CLAUSE\n",
    "-- Nostalgiac family friendly English films on a budget with a short attention span!:\n",
    "-- return all films with language ID of 1 and is rated G, PG, or PG-13,\n",
    "-- and have a rental rate less than $3 and a replacement cost less than $10,\n",
    "-- and last less than an hour and a half long, from the year 2006 or earlier\n",
    "SELECT *\n",
    "FROM film\n",
    "WHERE language_id = 1 AND\n",
    "\t  rating IN ('G', 'PG', 'PG-13') AND\n",
    "\t  rental_rate < 3 AND\n",
    "\t  replacement_cost < 15 AND\n",
    "\t  release_year <= 2006 AND\n",
    "\t  length < 90;\n"
   ]
  },
  {
   "cell_type": "markdown",
   "metadata": {},
   "source": [
    "-"
   ]
  },
  {
   "cell_type": "code",
   "execution_count": null,
   "metadata": {},
   "outputs": [],
   "source": [
    "## CONVERT SUBQUERY TO CTE\n",
    "-- Return all purchases from the longest standing customer\n",
    "-- (ie customer who has the earliest payment_date)\n",
    "SELECT * \n",
    "FROM payment\n",
    "WHERE customer_id = (SELECT customer_id\n",
    "\t\t\t\t\t  FROM payment\n",
    "\t\t\t\t\t  ORDER BY payment_date\n",
    "\t\t\t\t\t LIMIT 1);\n",
    "\n",
    "\n",
    "-- Return all purchases from the longest standing customer\n",
    "-- (ie customer who has the earliest payment_date)\n",
    "\n",
    "WITH oldest_customer AS (\n",
    "\tSELECT customer_id\n",
    "\tFROM payment\n",
    "\tORDER BY payment_date\n",
    "\tLIMIT 1\n",
    ")\n",
    "\n",
    "SELECT * \n",
    "FROM payment\n",
    "WHERE customer_id = (SELECT * FROM oldest_customer);"
   ]
  },
  {
   "cell_type": "code",
   "execution_count": null,
   "metadata": {},
   "outputs": [],
   "source": [
    "## SUBQUERY TO CTE\n",
    "SELECT * \n",
    "FROM payment\n",
    "WHERE customer_id = (SELECT customer_id\n",
    "\t\t\t\t\t  FROM payment\n",
    "\t\t\t\t\t  ORDER BY payment_date\n",
    "\t\t\t\t\t LIMIT 1);"
   ]
  },
  {
   "cell_type": "markdown",
   "metadata": {},
   "source": [
    "-"
   ]
  },
  {
   "cell_type": "code",
   "execution_count": null,
   "metadata": {},
   "outputs": [],
   "source": [
    "## OFFSET\n",
    "-- What are the NEXT 10 longest R rated movies?\n",
    "-- hint: google \"how to get next 10 records in sql\"\n",
    "SELECT *\n",
    "FROM film\n",
    "WHERE rating='R'\n",
    "ORDER BY length DESC\n",
    "LIMIT 10 OFFSET 30;"
   ]
  },
  {
   "cell_type": "markdown",
   "metadata": {},
   "source": [
    "-"
   ]
  },
  {
   "cell_type": "code",
   "execution_count": null,
   "metadata": {},
   "outputs": [],
   "source": [
    "## AGG DISTINCT\n",
    "# How many unique release_years are there in the dvd rental database?\n",
    "# Return an exact number\n",
    "SELECT COUNT (DISTINCT release_year)\n",
    "FROM film;\n",
    "\n",
    "SELECT DISTINCT (first_name, last_name)"
   ]
  },
  {
   "cell_type": "markdown",
   "metadata": {},
   "source": [
    "-"
   ]
  },
  {
   "cell_type": "code",
   "execution_count": null,
   "metadata": {},
   "outputs": [],
   "source": [
    "## DESCRIBE IT\n",
    "SELECT c.name, COUNT(f.film_id) as total\n",
    "FROM film as f\n",
    "JOIN film_category AS fc  ON f.film_id=fc.film_id\n",
    "JOIN category AS c ON fc.category_id=c.category_id\n",
    "GROUP BY c.category_id \n",
    "ORDER BY total DESC;\n",
    "\n",
    "--(extra specific...)\n",
    "--1 film as f JOIN film_category AS fc ON f.film_id=fc.film_id\n",
    "--2 #1 JOIN category AS c ON fc.category_id=c.category_id\n",
    "--3 FROM #2\n",
    "--4 GROUP BY c.category_id\n",
    "--5 SELECT c.name, COUNT(f.film_id) as total\n",
    "--6 ORDER BY total DESC;\n",
    "\n",
    "-- OR...\n",
    "-- We first join the film table and the film_category table, we then take that \n",
    "-- and join it to the category table. We take that result and we group all the \n",
    "-- rows by category_id. From that we return name and the count of film_id in \n",
    "-- each category. We then order the results by highest count to lower count for\n",
    "-- each category."
   ]
  },
  {
   "cell_type": "code",
   "execution_count": null,
   "metadata": {},
   "outputs": [],
   "source": [
    "SELECT *\n",
    "FROM payment\n",
    "WHERE amount > (SELECT AVG(amount) FROM payment);\n",
    "\n",
    "--1 FROM payment\n",
    "--2     FROM payment (in subquery)\n",
    "--3     SELECT AVG(amount)\n",
    "--4 WHERE amount > #3\n",
    "--5 SELECT *\n",
    "\n",
    "-- OR...\n",
    "--We first take payment table, and then put it aside for a moment and do the following...\n",
    "--(Go to the payment table, and return the average amount of all rows and return it as a number)\n",
    "-- We then filter all rows from the original payment table that have an amount less\n",
    "-- than the result of the subquery. From those rows we return all columns."
   ]
  }
 ],
 "metadata": {
  "kernelspec": {
   "display_name": "Python 3",
   "language": "python",
   "name": "python3"
  },
  "language_info": {
   "codemirror_mode": {
    "name": "ipython",
    "version": 3
   },
   "file_extension": ".py",
   "mimetype": "text/x-python",
   "name": "python",
   "nbconvert_exporter": "python",
   "pygments_lexer": "ipython3",
   "version": "3.7.3"
  }
 },
 "nbformat": 4,
 "nbformat_minor": 2
}
